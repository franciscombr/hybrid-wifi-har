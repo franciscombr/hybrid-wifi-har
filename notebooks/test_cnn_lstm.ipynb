{
 "cells": [
  {
   "cell_type": "code",
   "execution_count": 1,
   "metadata": {},
   "outputs": [],
   "source": [
    "import torch"
   ]
  },
  {
   "cell_type": "code",
   "execution_count": 2,
   "metadata": {},
   "outputs": [],
   "source": [
    "dataset_path = \"../data/UT_HAR_OG\""
   ]
  },
  {
   "cell_type": "code",
   "execution_count": 3,
   "metadata": {},
   "outputs": [
    {
     "name": "stderr",
     "output_type": "stream",
     "text": [
      "/home/francisco.m.ribeiro/PDEEC/ML/Project/hybrid-wifi-har/src/ut_har/ut_har.py:9: UserWarning: To copy construct from a tensor, it is recommended to use sourceTensor.clone().detach() or sourceTensor.clone().detach().requires_grad_(True), rather than torch.tensor(sourceTensor).\n",
      "  self.X = torch.tensor(X,dtype=torch.float32)\n",
      "/home/francisco.m.ribeiro/PDEEC/ML/Project/hybrid-wifi-har/src/ut_har/ut_har.py:10: UserWarning: To copy construct from a tensor, it is recommended to use sourceTensor.clone().detach() or sourceTensor.clone().detach().requires_grad_(True), rather than torch.tensor(sourceTensor).\n",
      "  self.y = torch.tensor(y,dtype=torch.uint8)\n"
     ]
    }
   ],
   "source": [
    "from src.ut_har.ut_har import make_dataset, make_dataloader\n",
    "\n",
    "train_dataset, val_dataset, test_dataset = make_dataset(dataset_path, normalize=True, val_split=0.2, test_split=0.2)"
   ]
  },
  {
   "cell_type": "code",
   "execution_count": 4,
   "metadata": {},
   "outputs": [],
   "source": [
    "rng_generator = torch.manual_seed(42)\n",
    "train_dataloader = make_dataloader(train_dataset, is_training=True, batch_size=4, generator=rng_generator)\n",
    "test_dataloader = make_dataloader(val_dataset, is_training=False, batch_size=8, generator=rng_generator)"
   ]
  },
  {
   "cell_type": "code",
   "execution_count": 5,
   "metadata": {},
   "outputs": [
    {
     "data": {
      "text/plain": [
       "torch.Size([4, 10, 180])"
      ]
     },
     "execution_count": 5,
     "metadata": {},
     "output_type": "execute_result"
    }
   ],
   "source": [
    "x = next(iter(train_dataloader))[0]\n",
    "x.shape"
   ]
  },
  {
   "cell_type": "code",
   "execution_count": 6,
   "metadata": {},
   "outputs": [],
   "source": [
    "from src.cnn_lstm.cnn_lstm_arch01 import CNNLSTMModel\n",
    "\n",
    "model = CNNLSTMModel(amp_output_features=16, phase_output_features=16, lstm_hidden_dim=64, lstm_num_layers=4, bidirectional=True)"
   ]
  },
  {
   "cell_type": "code",
   "execution_count": 7,
   "metadata": {},
   "outputs": [
    {
     "name": "stdout",
     "output_type": "stream",
     "text": [
      "torch.Size([4, 10, 8])\n"
     ]
    }
   ],
   "source": [
    "out = model(x)"
   ]
  }
 ],
 "metadata": {
  "kernelspec": {
   "display_name": "venv",
   "language": "python",
   "name": "python3"
  },
  "language_info": {
   "codemirror_mode": {
    "name": "ipython",
    "version": 3
   },
   "file_extension": ".py",
   "mimetype": "text/x-python",
   "name": "python",
   "nbconvert_exporter": "python",
   "pygments_lexer": "ipython3",
   "version": "3.10.12"
  }
 },
 "nbformat": 4,
 "nbformat_minor": 2
}
