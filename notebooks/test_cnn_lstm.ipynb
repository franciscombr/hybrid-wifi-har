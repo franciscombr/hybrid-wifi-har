{
 "cells": [
  {
   "cell_type": "code",
   "execution_count": 1,
   "metadata": {},
   "outputs": [],
   "source": [
    "import torch"
   ]
  },
  {
   "cell_type": "code",
   "execution_count": 2,
   "metadata": {},
   "outputs": [],
   "source": [
    "dataset_path = \"../data/UT_HAR_OG\""
   ]
  },
  {
   "cell_type": "code",
   "execution_count": 3,
   "metadata": {},
   "outputs": [
    {
     "name": "stderr",
     "output_type": "stream",
     "text": [
      "/home/francisco.m.ribeiro/PDEEC/ML/Project/hybrid-wifi-har/src/ut_har/ut_har.py:9: UserWarning: To copy construct from a tensor, it is recommended to use sourceTensor.clone().detach() or sourceTensor.clone().detach().requires_grad_(True), rather than torch.tensor(sourceTensor).\n",
      "  self.X = torch.tensor(X,dtype=torch.float32)\n",
      "/home/francisco.m.ribeiro/PDEEC/ML/Project/hybrid-wifi-har/src/ut_har/ut_har.py:10: UserWarning: To copy construct from a tensor, it is recommended to use sourceTensor.clone().detach() or sourceTensor.clone().detach().requires_grad_(True), rather than torch.tensor(sourceTensor).\n",
      "  self.y = torch.tensor(y,dtype=torch.uint8)\n"
     ]
    }
   ],
   "source": [
    "from src.ut_har.ut_har import make_dataset, make_dataloader\n",
    "\n",
    "train_dataset, val_dataset, test_dataset = make_dataset(dataset_path, normalize=True, val_split=0.2, test_split=0.2)"
   ]
  },
  {
   "cell_type": "code",
   "execution_count": 4,
   "metadata": {},
   "outputs": [],
   "source": [
    "rng_generator = torch.manual_seed(42)\n",
    "train_dataloader = make_dataloader(train_dataset, is_training=True, batch_size=4, generator=rng_generator)\n",
    "test_dataloader = make_dataloader(val_dataset, is_training=False, batch_size=8, generator=rng_generator)"
   ]
  },
  {
   "cell_type": "code",
   "execution_count": 5,
   "metadata": {},
   "outputs": [
    {
     "data": {
      "text/plain": [
       "torch.Size([4, 10, 180])"
      ]
     },
     "execution_count": 5,
     "metadata": {},
     "output_type": "execute_result"
    }
   ],
   "source": [
    "x = next(iter(train_dataloader))[0]\n",
    "x.shape"
   ]
  },
  {
   "cell_type": "code",
   "execution_count": 6,
   "metadata": {},
   "outputs": [],
   "source": [
    "from src.cnn_lstm.cnn_lstm_arch01 import CNNLSTMModel\n",
    "\n",
    "model = CNNLSTMModel(amp_output_features=16, phase_output_features=16, lstm_hidden_dim=64, lstm_num_layers=4, bidirectional=True)"
   ]
  },
  {
   "cell_type": "code",
   "execution_count": 7,
   "metadata": {},
   "outputs": [
    {
     "data": {
      "text/plain": [
       "tensor([[ 0.0062, -0.0944, -0.0691, -0.0619, -0.0362,  0.0823,  0.0354,  0.0092],\n",
       "        [ 0.0061, -0.0943, -0.0695, -0.0602, -0.0369,  0.0819,  0.0372,  0.0097],\n",
       "        [ 0.0064, -0.0944, -0.0690, -0.0621, -0.0359,  0.0822,  0.0355,  0.0094],\n",
       "        [ 0.0064, -0.0947, -0.0697, -0.0622, -0.0361,  0.0822,  0.0358,  0.0094]],\n",
       "       grad_fn=<AddmmBackward0>)"
      ]
     },
     "execution_count": 7,
     "metadata": {},
     "output_type": "execute_result"
    }
   ],
   "source": [
    "out = model(x)\n",
    "out"
   ]
  },
  {
   "cell_type": "code",
   "execution_count": 8,
   "metadata": {},
   "outputs": [
    {
     "name": "stderr",
     "output_type": "stream",
     "text": [
      "/home/francisco.m.ribeiro/PDEEC/ML/Project/hybrid-wifi-har/venv/lib/python3.10/site-packages/torchvision/models/_utils.py:208: UserWarning: The parameter 'pretrained' is deprecated since 0.13 and may be removed in the future, please use 'weights' instead.\n",
      "  warnings.warn(\n",
      "/home/francisco.m.ribeiro/PDEEC/ML/Project/hybrid-wifi-har/venv/lib/python3.10/site-packages/torchvision/models/_utils.py:223: UserWarning: Arguments other than a weight enum or `None` for 'weights' are deprecated since 0.13 and may be removed in the future. The current behavior is equivalent to passing `weights=None`.\n",
      "  warnings.warn(msg)\n"
     ]
    }
   ],
   "source": [
    "from src.resnet.restnet_arch02 import CustomResNet18\n",
    "\n",
    "model = CustomResNet18()"
   ]
  },
  {
   "cell_type": "code",
   "execution_count": 9,
   "metadata": {},
   "outputs": [
    {
     "name": "stdout",
     "output_type": "stream",
     "text": [
      "torch.Size([4, 10, 90, 1])\n"
     ]
    }
   ],
   "source": [
    "out = model(x)"
   ]
  }
 ],
 "metadata": {
  "kernelspec": {
   "display_name": "venv",
   "language": "python",
   "name": "python3"
  },
  "language_info": {
   "codemirror_mode": {
    "name": "ipython",
    "version": 3
   },
   "file_extension": ".py",
   "mimetype": "text/x-python",
   "name": "python",
   "nbconvert_exporter": "python",
   "pygments_lexer": "ipython3",
   "version": "3.10.12"
  }
 },
 "nbformat": 4,
 "nbformat_minor": 2
}
