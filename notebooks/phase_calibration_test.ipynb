{
 "cells": [
  {
   "cell_type": "code",
   "execution_count": 1,
   "metadata": {},
   "outputs": [],
   "source": [
    "import numpy as np\n",
    "import torch\n",
    "from scripts.data_prep import create_dataset"
   ]
  },
  {
   "cell_type": "code",
   "execution_count": 2,
   "metadata": {},
   "outputs": [],
   "source": [
    "input_path = \"../data/UT_HAR_OG/input\"\n",
    "annotation_path = \"../data/UT_HAR_OG/annotation\""
   ]
  },
  {
   "cell_type": "code",
   "execution_count": 3,
   "metadata": {},
   "outputs": [],
   "source": [
    "data, labels = create_dataset(input_path, annotation_path)"
   ]
  },
  {
   "cell_type": "code",
   "execution_count": 9,
   "metadata": {},
   "outputs": [],
   "source": [
    "# PHASE CALIBRATION\n",
    "def calibrate_phase(data):\n",
    "    proc_data = torch.zeros_like(data)\n",
    "    num_antennas = 3\n",
    "    num_subcarriers = 30\n",
    "\n",
    "    for idx, tensor in enumerate(data):\n",
    "        phase = tensor[:,num_antennas*num_subcarriers:]\n",
    "        difference = torch.zeros_like(tensor[:,0])\n",
    "        calibrated_phase = phase.clone()\n",
    "\n",
    "        for i in range(num_subcarriers*num_antennas):\n",
    "            if i%num_subcarriers == 0:\n",
    "                  continue\n",
    "            temp = phase[:,i] - phase[:,i-1]\n",
    "            difference = difference + np.sign(temp) * (np.abs(temp) > np.pi)\n",
    "            calibrated_phase[:,i] = phase[:,i] - difference * 2 * np.pi\n",
    "\n",
    "        for i in range(num_antennas):\n",
    "              k = (calibrated_phase[:,i*num_subcarriers +num_subcarriers-1] - calibrated_phase[:,i*num_subcarriers]) / (num_subcarriers-1)\n",
    "              b = torch.mean(calibrated_phase[:,i*num_subcarriers:i*num_subcarriers+num_subcarriers], dim=1)\n",
    "\n",
    "              for j in range(num_subcarriers):\n",
    "                    calibrated_phase[:,i*num_subcarriers+j] -= k*j+b \n",
    "\n",
    "   \n",
    "\n",
    "        \n",
    "        proc_data[idx, :, :num_antennas*num_subcarriers] = tensor[:,:num_antennas*num_subcarriers]\n",
    "        proc_data[idx, :, num_antennas*num_subcarriers:] = calibrated_phase\n",
    "\n",
    "    return proc_data"
   ]
  },
  {
   "cell_type": "code",
   "execution_count": null,
   "metadata": {},
   "outputs": [],
   "source": [
    "test_output = calibrate_phase(data)"
   ]
  },
  {
   "cell_type": "code",
   "execution_count": null,
   "metadata": {},
   "outputs": [],
   "source": [
    "test_output.shape"
   ]
  },
  {
   "cell_type": "code",
   "execution_count": null,
   "metadata": {},
   "outputs": [],
   "source": [
    "print(test_data[0,1,90:])"
   ]
  },
  {
   "cell_type": "code",
   "execution_count": 6,
   "metadata": {},
   "outputs": [],
   "source": [
    "proc_data = torch.zeros_like(test_data)\n",
    "num_antennas = 3\n",
    "num_subcarriers = 30"
   ]
  },
  {
   "cell_type": "code",
   "execution_count": null,
   "metadata": {},
   "outputs": [],
   "source": [
    "for idx, tensor in enumerate(test_data):\n",
    "        phase = tensor[:,num_antennas*num_subcarriers:]\n",
    "        difference = torch.zeros_like(tensor[:,0])\n",
    "        calibrated_phase = phase.clone()\n",
    "\n",
    "        for i in range(num_subcarriers*num_antennas):\n",
    "            if i%num_subcarriers == 0:\n",
    "                  continue\n",
    "            temp = phase[:,i] - phase[:,i-1]\n",
    "            difference = difference + np.sign(temp) * (np.abs(temp) > np.pi)\n",
    "            calibrated_phase[:,i] = phase[:,i] - difference * 2 * np.pi\n",
    "\n",
    "        for i in range(num_antennas):\n",
    "              k = (calibrated_phase[:,i*num_subcarriers +num_subcarriers-1] - calibrated_phase[:,i*num_subcarriers]) / (num_subcarriers-1)\n",
    "              b = torch.mean(calibrated_phase[:,i*num_subcarriers:i*num_subcarriers+num_subcarriers], dim=1)\n",
    "\n",
    "              for j in range(num_subcarriers):\n",
    "                    calibrated_phase[:,i*num_subcarriers+j] -= k*j+b \n",
    "\n",
    "        print(phase[0,30], phase[0,29])\n",
    "        print(calibrated_phase[0])"
   ]
  },
  {
   "cell_type": "code",
   "execution_count": 13,
   "metadata": {},
   "outputs": [
    {
     "ename": "",
     "evalue": "",
     "output_type": "error",
     "traceback": [
      "\u001b[1;31mThe Kernel crashed while executing code in the current cell or a previous cell. \n",
      "\u001b[1;31mPlease review the code in the cell(s) to identify a possible cause of the failure. \n",
      "\u001b[1;31mClick <a href='https://aka.ms/vscodeJupyterKernelCrash'>here</a> for more info. \n",
      "\u001b[1;31mView Jupyter <a href='command:jupyter.viewOutput'>log</a> for further details."
     ]
    }
   ],
   "source": [
    "import h5py\n",
    "with h5py.File(\"../data/UT_HAR_CAL_PHASE/X.h5\",\"w\") as f:\n",
    "    f.create_dataset(\"X\",data=test_output)"
   ]
  }
 ],
 "metadata": {
  "kernelspec": {
   "display_name": "venv",
   "language": "python",
   "name": "python3"
  },
  "language_info": {
   "codemirror_mode": {
    "name": "ipython",
    "version": 3
   },
   "file_extension": ".py",
   "mimetype": "text/x-python",
   "name": "python",
   "nbconvert_exporter": "python",
   "pygments_lexer": "ipython3",
   "version": "3.10.12"
  }
 },
 "nbformat": 4,
 "nbformat_minor": 2
}
