{
 "cells": [
  {
   "cell_type": "code",
   "execution_count": 1,
   "metadata": {},
   "outputs": [],
   "source": [
    "import numpy as np\n",
    "import torch\n",
    "from scripts.data_prep import create_dataset"
   ]
  },
  {
   "cell_type": "code",
   "execution_count": 2,
   "metadata": {},
   "outputs": [],
   "source": [
    "input_path = \"../data/UT_HAR_OG/input\"\n",
    "annotation_path = \"../data/UT_HAR_OG/annotation\""
   ]
  },
  {
   "cell_type": "code",
   "execution_count": 3,
   "metadata": {},
   "outputs": [],
   "source": [
    "data, labels = create_dataset(input_path, annotation_path)"
   ]
  },
  {
   "cell_type": "code",
   "execution_count": 9,
   "metadata": {},
   "outputs": [],
   "source": [
    "# PHASE CALIBRATION\n",
    "def calibrate_phase(data):\n",
    "    proc_data = torch.zeros_like(data)\n",
    "    num_antennas = 3\n",
    "    num_subcarriers = 30\n",
    "\n",
    "    for idx, tensor in enumerate(data):\n",
    "        phase = tensor[:,num_antennas*num_subcarriers:]\n",
    "        difference = torch.zeros_like(tensor[:,0])\n",
    "        calibrated_phase = phase.clone()\n",
    "\n",
    "        for i in range(num_subcarriers*num_antennas):\n",
    "            if i%num_subcarriers == 0:\n",
    "                  continue\n",
    "            temp = phase[:,i] - phase[:,i-1]\n",
    "            difference = difference + np.sign(temp) * (np.abs(temp) > np.pi)\n",
    "            calibrated_phase[:,i] = phase[:,i] - difference * 2 * np.pi\n",
    "\n",
    "        for i in range(num_antennas):\n",
    "              k = (calibrated_phase[:,i*num_subcarriers +num_subcarriers-1] - calibrated_phase[:,i*num_subcarriers]) / (num_subcarriers-1)\n",
    "              b = torch.mean(calibrated_phase[:,i*num_subcarriers:i*num_subcarriers+num_subcarriers], dim=1)\n",
    "\n",
    "              for j in range(num_subcarriers):\n",
    "                    calibrated_phase[:,i*num_subcarriers+j] -= k*j+b \n",
    "\n",
    "   \n",
    "\n",
    "        \n",
    "        proc_data[idx, :, :num_antennas*num_subcarriers] = tensor[:,:num_antennas*num_subcarriers]\n",
    "        proc_data[idx, :, num_antennas*num_subcarriers:] = calibrated_phase\n",
    "\n",
    "    return proc_data"
   ]
  },
  {
   "cell_type": "code",
   "execution_count": 10,
   "metadata": {},
   "outputs": [
    {
     "name": "stderr",
     "output_type": "stream",
     "text": [
      "/tmp/ipykernel_991494/3841141425.py:16: DeprecationWarning: __array_wrap__ must accept context and return_scalar arguments (positionally) in the future. (Deprecated NumPy 2.0)\n",
      "  difference = difference + np.sign(temp) * (np.abs(temp) > np.pi)\n"
     ]
    }
   ],
   "source": [
    "test_output = calibrate_phase(data)"
   ]
  },
  {
   "cell_type": "code",
   "execution_count": 12,
   "metadata": {},
   "outputs": [
    {
     "data": {
      "text/plain": [
       "torch.Size([110793, 10, 180])"
      ]
     },
     "execution_count": 12,
     "metadata": {},
     "output_type": "execute_result"
    }
   ],
   "source": [
    "test_output.shape"
   ]
  },
  {
   "cell_type": "code",
   "execution_count": 31,
   "metadata": {},
   "outputs": [
    {
     "name": "stdout",
     "output_type": "stream",
     "text": [
      "tensor([13.0541, 12.8528, 12.5417, 12.3269, 12.2419, 12.1556, 12.2698, 12.3829,\n",
      "        12.2949, 12.4182, 12.5258, 12.5947, 12.7153, 12.7861, 13.2515, 13.1657,\n",
      "        13.2450, 13.3139, 13.4153, 13.4706, 13.4897, 13.5325, 13.6064, 13.5721,\n",
      "        13.5681, 13.4418, 13.2470, 13.0113, 12.7521, 13.0541, 11.6246, 11.2058,\n",
      "        10.7448, 10.4721, 10.1550, 10.1911, 10.4981, 11.1501, 12.3659, 12.6543,\n",
      "        12.5758, 12.4545, 12.4917, 12.5596, 12.8798, 12.6156, 12.6067, 12.4535,\n",
      "        12.3296, 12.2669, 12.2013, 12.0815, 12.0784, 11.9979, 11.9683, 11.8456,\n",
      "        11.6292, 11.5292, 11.3393, 11.6246, 12.7560, 12.4817, 12.2645, 12.1518,\n",
      "        12.0226, 11.9258, 11.9277, 11.9358, 12.0245, 12.0335, 12.0432, 12.1066,\n",
      "        12.2620, 12.3237, 12.8686, 12.8882, 12.9916, 13.0743, 13.1368, 13.1890,\n",
      "        13.2146, 13.1859, 13.2316, 13.1954, 13.2015, 13.0768, 12.8807, 12.7291,\n",
      "        12.4604, 12.7560])\n"
     ]
    }
   ],
   "source": [
    "print(test_data[0,1,90:])"
   ]
  },
  {
   "cell_type": "code",
   "execution_count": 6,
   "metadata": {},
   "outputs": [],
   "source": [
    "proc_data = torch.zeros_like(test_data)\n",
    "num_antennas = 3\n",
    "num_subcarriers = 30"
   ]
  },
  {
   "cell_type": "code",
   "execution_count": 18,
   "metadata": {},
   "outputs": [
    {
     "name": "stdout",
     "output_type": "stream",
     "text": [
      "tensor(12.2703) tensor(12.2703)\n",
      "tensor([ 0.0764, -0.1050, -0.3963, -0.5860, -0.7604, -0.8082, -0.7323, -0.6377,\n",
      "        -0.6094, -0.5207, -0.3959, -0.3635, -0.1697, -0.1013,  0.3166,  0.2554,\n",
      "         0.3487,  0.3890,  0.4465,  0.5124,  0.5385,  0.5994,  0.6664,  0.6227,\n",
      "         0.6669,  0.5258,  0.3331,  0.0184, -0.2075,  0.0764, -0.1810, -0.5246,\n",
      "        -1.0218, -1.3572, -1.5903, -1.6416, -1.3137, -0.8695, -0.0934,  0.7663,\n",
      "         1.0960,  0.5982,  0.5164,  0.5974,  0.9842,  0.8740,  0.7538,  0.7229,\n",
      "         0.6756,  0.5636,  0.4246,  0.3059,  0.3062,  0.2083,  0.1757,  0.0142,\n",
      "        -0.1386, -0.2314, -0.4394, -0.1810,  0.1546, -0.0461, -0.3356, -0.4749,\n",
      "        -0.6408, -0.7357, -0.6148, -0.6253, -0.6563, -0.6311, -0.5412, -0.5573,\n",
      "        -0.4698, -0.3013,  0.2397,  0.2861,  0.3796,  0.4887,  0.5392,  0.5882,\n",
      "         0.6358,  0.5789,  0.6228,  0.6025,  0.6075,  0.4628,  0.2948,  0.1091,\n",
      "        -0.1148,  0.1546])\n"
     ]
    },
    {
     "name": "stderr",
     "output_type": "stream",
     "text": [
      "/tmp/ipykernel_987590/416557686.py:10: DeprecationWarning: __array_wrap__ must accept context and return_scalar arguments (positionally) in the future. (Deprecated NumPy 2.0)\n",
      "  difference = difference + np.sign(temp) * (np.abs(temp) > np.pi)\n"
     ]
    }
   ],
   "source": [
    "for idx, tensor in enumerate(test_data):\n",
    "        phase = tensor[:,num_antennas*num_subcarriers:]\n",
    "        difference = torch.zeros_like(tensor[:,0])\n",
    "        calibrated_phase = phase.clone()\n",
    "\n",
    "        for i in range(num_subcarriers*num_antennas):\n",
    "            if i%num_subcarriers == 0:\n",
    "                  continue\n",
    "            temp = phase[:,i] - phase[:,i-1]\n",
    "            difference = difference + np.sign(temp) * (np.abs(temp) > np.pi)\n",
    "            calibrated_phase[:,i] = phase[:,i] - difference * 2 * np.pi\n",
    "\n",
    "        for i in range(num_antennas):\n",
    "              k = (calibrated_phase[:,i*num_subcarriers +num_subcarriers-1] - calibrated_phase[:,i*num_subcarriers]) / (num_subcarriers-1)\n",
    "              b = torch.mean(calibrated_phase[:,i*num_subcarriers:i*num_subcarriers+num_subcarriers], dim=1)\n",
    "\n",
    "              for j in range(num_subcarriers):\n",
    "                    calibrated_phase[:,i*num_subcarriers+j] -= k*j+b \n",
    "\n",
    "        print(phase[0,30], phase[0,29])\n",
    "        print(calibrated_phase[0])"
   ]
  },
  {
   "cell_type": "code",
   "execution_count": 13,
   "metadata": {},
   "outputs": [],
   "source": [
    "import h5py\n",
    "with h5py.File(\"../data/UT_HAR_CAL_PHASE/X.h5\",\"w\") as f:\n",
    "    f.create_dataset(\"X\",data=test_output)"
   ]
  }
 ],
 "metadata": {
  "kernelspec": {
   "display_name": "venv",
   "language": "python",
   "name": "python3"
  },
  "language_info": {
   "codemirror_mode": {
    "name": "ipython",
    "version": 3
   },
   "file_extension": ".py",
   "mimetype": "text/x-python",
   "name": "python",
   "nbconvert_exporter": "python",
   "pygments_lexer": "ipython3",
   "version": "3.10.12"
  }
 },
 "nbformat": 4,
 "nbformat_minor": 2
}
