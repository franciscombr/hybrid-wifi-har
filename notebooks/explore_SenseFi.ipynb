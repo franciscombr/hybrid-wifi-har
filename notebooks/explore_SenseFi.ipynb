{
 "cells": [
  {
   "cell_type": "code",
   "execution_count": 1,
   "metadata": {},
   "outputs": [],
   "source": [
    "import numpy as np \n",
    "import glob\n",
    "import torch"
   ]
  },
  {
   "cell_type": "code",
   "execution_count": 2,
   "metadata": {},
   "outputs": [],
   "source": [
    "data_list = glob.glob(\"../data/UT_HAR_SenseFi/data/*.csv\")\n",
    "label_list = glob.glob(\"../data/UT_HAR_SenseFi/label/*.csv\")"
   ]
  },
  {
   "cell_type": "code",
   "execution_count": 3,
   "metadata": {},
   "outputs": [
    {
     "name": "stdout",
     "output_type": "stream",
     "text": [
      "['../data/UT_HAR_SenseFi/data/X_test.csv', '../data/UT_HAR_SenseFi/data/X_train.csv', '../data/UT_HAR_SenseFi/data/X_val.csv'] \n",
      " ['../data/UT_HAR_SenseFi/label/y_test.csv', '../data/UT_HAR_SenseFi/label/y_train.csv', '../data/UT_HAR_SenseFi/label/y_val.csv']\n"
     ]
    }
   ],
   "source": [
    "print(data_list, \"\\n\", label_list)"
   ]
  },
  {
   "cell_type": "code",
   "execution_count": 14,
   "metadata": {},
   "outputs": [],
   "source": [
    "WiFi_data = {}\n",
    "for data_dir in data_list:\n",
    "    data_name = data_dir.split('/')[-1].split('.')[0]\n",
    "    with open(data_dir, 'rb') as f:\n",
    "        data = np.load(f)\n",
    "        data = data.reshape(len(data), 1, 250, 90)\n",
    "        data_norm = (data - np.min(data)) / (np.max(data) - np.min(data))\n",
    "    WiFi_data[data_name] = torch.Tensor(data_norm)\n",
    "    for label_dir in label_list:\n",
    "        label_name = label_dir.split('/')[-1].split('.')[0]\n",
    "        with open(label_dir, 'rb') as f:\n",
    "            label = np.load(f)\n",
    "        WiFi_data[label_name] = torch.Tensor(label)\n",
    "    "
   ]
  },
  {
   "cell_type": "code",
   "execution_count": 15,
   "metadata": {},
   "outputs": [
    {
     "name": "stdout",
     "output_type": "stream",
     "text": [
      "X_test :  torch.Size([500, 1, 250, 90])\n",
      "y_test :  torch.Size([500])\n",
      "y_train :  torch.Size([3977])\n",
      "y_val :  torch.Size([496])\n",
      "X_train :  torch.Size([3977, 1, 250, 90])\n",
      "X_val :  torch.Size([496, 1, 250, 90])\n"
     ]
    }
   ],
   "source": [
    "for split in WiFi_data.keys():\n",
    "    print(split, \": \", WiFi_data[split].shape)"
   ]
  },
  {
   "cell_type": "code",
   "execution_count": 20,
   "metadata": {},
   "outputs": [
    {
     "data": {
      "text/plain": [
       "tensor([0., 1., 2., 3., 4., 5., 6.])"
      ]
     },
     "execution_count": 20,
     "metadata": {},
     "output_type": "execute_result"
    }
   ],
   "source": [
    "WiFi_data[\"y_val\"].unique()"
   ]
  },
  {
   "cell_type": "code",
   "execution_count": null,
   "metadata": {},
   "outputs": [],
   "source": []
  }
 ],
 "metadata": {
  "kernelspec": {
   "display_name": "venv",
   "language": "python",
   "name": "python3"
  },
  "language_info": {
   "codemirror_mode": {
    "name": "ipython",
    "version": 3
   },
   "file_extension": ".py",
   "mimetype": "text/x-python",
   "name": "python",
   "nbconvert_exporter": "python",
   "pygments_lexer": "ipython3",
   "version": "3.10.12"
  }
 },
 "nbformat": 4,
 "nbformat_minor": 2
}
