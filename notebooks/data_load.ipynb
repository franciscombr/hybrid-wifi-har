{
 "cells": [
  {
   "cell_type": "code",
   "execution_count": 1,
   "metadata": {},
   "outputs": [],
   "source": [
    "import torch\n",
    "import numpy as np \n",
    "import h5py\n",
    "from sklearn.model_selection import train_test_split"
   ]
  },
  {
   "cell_type": "code",
   "execution_count": 2,
   "metadata": {},
   "outputs": [],
   "source": [
    "dataset_path = \"../data/UT_HAR_OG\"\n",
    "#X = torch.load(dataset_path+\"/data/X.pt\")\n",
    "#y = torch.load(dataset_path+\"/label/y.pt\")"
   ]
  },
  {
   "cell_type": "code",
   "execution_count": 3,
   "metadata": {},
   "outputs": [],
   "source": [
    "with h5py.File(dataset_path + \"/X.h5\", \"r\") as f:\n",
    "    X = torch.tensor(f[\"X\"][:])\n",
    "\n",
    "with h5py.File(dataset_path + \"/y.h5\", \"r\") as f:\n",
    "    y = torch.tensor(f[\"y\"][:])"
   ]
  },
  {
   "cell_type": "code",
   "execution_count": 4,
   "metadata": {},
   "outputs": [
    {
     "data": {
      "text/plain": [
       "torch.Size([110793, 10, 180])"
      ]
     },
     "execution_count": 4,
     "metadata": {},
     "output_type": "execute_result"
    }
   ],
   "source": [
    "X.shape"
   ]
  },
  {
   "cell_type": "code",
   "execution_count": 5,
   "metadata": {},
   "outputs": [
    {
     "data": {
      "text/plain": [
       "torch.Size([110793])"
      ]
     },
     "execution_count": 5,
     "metadata": {},
     "output_type": "execute_result"
    }
   ],
   "source": [
    "y.shape"
   ]
  },
  {
   "cell_type": "code",
   "execution_count": 6,
   "metadata": {},
   "outputs": [],
   "source": [
    "X_train_val, X_test, y_train_val, y_test = train_test_split(X,y,test_size=0.3, stratify=y, random_state=42)"
   ]
  },
  {
   "cell_type": "code",
   "execution_count": 7,
   "metadata": {},
   "outputs": [],
   "source": [
    "X_train, X_val, y_train, y_val = train_test_split(X_train_val, y_train_val, test_size=0.2, stratify=y_train_val, random_state=42)"
   ]
  },
  {
   "cell_type": "code",
   "execution_count": 8,
   "metadata": {},
   "outputs": [
    {
     "name": "stdout",
     "output_type": "stream",
     "text": [
      "Train distribution:\n",
      "Class 0: 50296 samples\n",
      "Class 1: 1552 samples\n",
      "Class 2: 1080 samples\n",
      "Class 3: 1187 samples\n",
      "Class 4: 2790 samples\n",
      "Class 5: 1009 samples\n",
      "Class 6: 753 samples\n",
      "Class 7: 3377 samples\n",
      "\n",
      "Validation distribution:\n",
      "Class 0: 12574 samples\n",
      "Class 1: 388 samples\n",
      "Class 2: 270 samples\n",
      "Class 3: 297 samples\n",
      "Class 4: 697 samples\n",
      "Class 5: 252 samples\n",
      "Class 6: 188 samples\n",
      "Class 7: 845 samples\n",
      "\n",
      "Test distribution:\n",
      "Class 0: 26945 samples\n",
      "Class 1: 831 samples\n",
      "Class 2: 579 samples\n",
      "Class 3: 636 samples\n",
      "Class 4: 1494 samples\n",
      "Class 5: 540 samples\n",
      "Class 6: 404 samples\n",
      "Class 7: 1809 samples\n",
      "\n"
     ]
    }
   ],
   "source": [
    "def print_class_distribution(y, label):\n",
    "    unique, counts = np.unique(y, return_counts=True)\n",
    "    print(f\"{label} distribution:\")\n",
    "    for cls, count in zip(unique, counts):\n",
    "        print(f\"Class {cls}: {count} samples\")\n",
    "    print()\n",
    "\n",
    "print_class_distribution(y_train, \"Train\")\n",
    "print_class_distribution(y_val, \"Validation\")\n",
    "print_class_distribution(y_test, \"Test\")\n"
   ]
  },
  {
   "cell_type": "code",
   "execution_count": 9,
   "metadata": {},
   "outputs": [
    {
     "data": {
      "text/plain": [
       "torch.Size([62044, 10, 180])"
      ]
     },
     "execution_count": 9,
     "metadata": {},
     "output_type": "execute_result"
    }
   ],
   "source": [
    "X_train.shape"
   ]
  },
  {
   "cell_type": "code",
   "execution_count": 10,
   "metadata": {},
   "outputs": [
    {
     "data": {
      "text/plain": [
       "torch.Size([4, 10, 180])"
      ]
     },
     "execution_count": 10,
     "metadata": {},
     "output_type": "execute_result"
    }
   ],
   "source": [
    "#Test reshaping\n",
    "num_antennas = 3\n",
    "num_subcarriers = 30\n",
    "num_time_slices = 10\n",
    "wifi_csi_frame = X_train[:4]\n",
    "wifi_csi_frame.shape"
   ]
  },
  {
   "cell_type": "code",
   "execution_count": 11,
   "metadata": {},
   "outputs": [
    {
     "name": "stdout",
     "output_type": "stream",
     "text": [
      "tensor([15.7798, 16.7691, 17.0895, 16.8123, 16.5654, 15.9669, 15.2322, 15.7261,\n",
      "        15.8166, 14.8620, 15.1192, 14.8450, 14.1004, 15.0191, 14.1287, 14.1404,\n",
      "        14.3330, 13.3037, 12.9813, 11.4433, 11.7646, 11.1718, 10.8239, 11.9856,\n",
      "        11.0407, 11.7461, 12.7092, 11.2321, 12.2308, 10.5441, 21.1960, 22.0276,\n",
      "        22.1279, 21.8224, 20.8091, 19.8956, 18.9261, 18.8355, 18.4101, 17.5706,\n",
      "        17.9691, 18.5169, 17.7886, 19.1970, 18.4071, 18.5938, 19.1925, 19.8019,\n",
      "        20.3752, 19.9934, 19.9413, 20.6682, 20.1691, 20.7630, 19.5423, 20.2392,\n",
      "        21.3045, 20.0699, 20.6395, 19.1388, 14.6596, 16.8031, 18.6339, 19.8437,\n",
      "        20.4787, 21.5536, 21.9554, 22.9991, 23.4690, 23.0957, 23.4438, 23.2856,\n",
      "        22.5349, 23.0822, 21.9371, 21.8803, 22.3824, 22.3439, 22.7056, 22.4349,\n",
      "        22.9355, 24.1681, 24.2219, 25.2495, 24.6788, 25.0087, 26.0917, 24.9216,\n",
      "        24.7743, 23.0023, 14.3883, 14.2185, 13.9090, 13.7718, 13.7459, 13.7247,\n",
      "        13.9097, 13.9690, 14.0660, 14.1434, 14.2629, 14.3596, 14.5057, 14.4884,\n",
      "        14.9826, 15.0107, 14.9374, 14.9695, 14.9747, 15.0123, 14.9571, 14.9180,\n",
      "        14.9427, 14.9251, 14.9197, 14.7495, 14.6023, 14.3267, 14.0418, 14.3883,\n",
      "        13.0333, 12.7555, 12.3799, 12.1520, 11.9134, 11.8546, 11.9498, 11.9844,\n",
      "        12.0688, 12.1502, 12.3399, 12.4086, 12.4327, 12.5484, 13.0068, 13.0633,\n",
      "        13.1170, 13.1746, 13.2497, 13.1945, 13.2458, 13.2144, 13.2667, 13.3088,\n",
      "        13.2674, 13.2535, 13.0888, 12.9233, 12.7574, 13.0333, 13.4517, 13.3349,\n",
      "        13.1073, 12.9542, 12.7864, 12.6720, 12.7260, 12.7004, 12.6493, 12.6444,\n",
      "        12.6552, 12.6584, 12.7387, 12.7700, 13.2346, 13.3165, 13.4232, 13.5453,\n",
      "        13.6351, 13.7469, 13.8447, 13.8824, 13.9372, 13.9246, 13.9125, 13.8189,\n",
      "        13.6341, 13.4350, 13.2022, 13.4517])\n"
     ]
    }
   ],
   "source": [
    "print(wifi_csi_frame[0,0])"
   ]
  },
  {
   "cell_type": "code",
   "execution_count": 12,
   "metadata": {},
   "outputs": [
    {
     "data": {
      "text/plain": [
       "tensor([15.7798, 16.7691, 17.0895, 16.8123, 16.5654, 15.9669, 15.2322, 15.7261,\n",
       "        15.8166, 14.8620, 15.1192, 14.8450, 14.1004, 15.0191, 14.1287, 14.1404,\n",
       "        14.3330, 13.3037, 12.9813, 11.4433, 11.7646, 11.1718, 10.8239, 11.9856,\n",
       "        11.0407, 11.7461, 12.7092, 11.2321, 12.2308, 10.5441, 21.1960, 22.0276,\n",
       "        22.1279, 21.8224, 20.8091, 19.8956, 18.9261, 18.8355, 18.4101, 17.5706,\n",
       "        17.9691, 18.5169, 17.7886, 19.1970, 18.4071, 18.5938, 19.1925, 19.8019,\n",
       "        20.3752, 19.9934, 19.9413, 20.6682, 20.1691, 20.7630, 19.5423, 20.2392,\n",
       "        21.3045, 20.0699, 20.6395, 19.1388, 14.6596, 16.8031, 18.6339, 19.8437,\n",
       "        20.4787, 21.5536, 21.9554, 22.9991, 23.4690, 23.0957, 23.4438, 23.2856,\n",
       "        22.5349, 23.0822, 21.9371, 21.8803, 22.3824, 22.3439, 22.7056, 22.4349,\n",
       "        22.9355, 24.1681, 24.2219, 25.2495, 24.6788, 25.0087, 26.0917, 24.9216,\n",
       "        24.7743, 23.0023])"
      ]
     },
     "execution_count": 12,
     "metadata": {},
     "output_type": "execute_result"
    }
   ],
   "source": [
    "amplitudes = wifi_csi_frame[:,:,:num_subcarriers*num_antennas]\n",
    "amplitudes[0,0]"
   ]
  },
  {
   "cell_type": "code",
   "execution_count": 13,
   "metadata": {},
   "outputs": [
    {
     "data": {
      "text/plain": [
       "tensor([14.3883, 14.2185, 13.9090, 13.7718, 13.7459, 13.7247, 13.9097, 13.9690,\n",
       "        14.0660, 14.1434, 14.2629, 14.3596, 14.5057, 14.4884, 14.9826, 15.0107,\n",
       "        14.9374, 14.9695, 14.9747, 15.0123, 14.9571, 14.9180, 14.9427, 14.9251,\n",
       "        14.9197, 14.7495, 14.6023, 14.3267, 14.0418, 14.3883, 13.0333, 12.7555,\n",
       "        12.3799, 12.1520, 11.9134, 11.8546, 11.9498, 11.9844, 12.0688, 12.1502,\n",
       "        12.3399, 12.4086, 12.4327, 12.5484, 13.0068, 13.0633, 13.1170, 13.1746,\n",
       "        13.2497, 13.1945, 13.2458, 13.2144, 13.2667, 13.3088, 13.2674, 13.2535,\n",
       "        13.0888, 12.9233, 12.7574, 13.0333, 13.4517, 13.3349, 13.1073, 12.9542,\n",
       "        12.7864, 12.6720, 12.7260, 12.7004, 12.6493, 12.6444, 12.6552, 12.6584,\n",
       "        12.7387, 12.7700, 13.2346, 13.3165, 13.4232, 13.5453, 13.6351, 13.7469,\n",
       "        13.8447, 13.8824, 13.9372, 13.9246, 13.9125, 13.8189, 13.6341, 13.4350,\n",
       "        13.2022, 13.4517])"
      ]
     },
     "execution_count": 13,
     "metadata": {},
     "output_type": "execute_result"
    }
   ],
   "source": [
    "phases = wifi_csi_frame[:,:,num_antennas*num_subcarriers:]\n",
    "phases[0,0]"
   ]
  },
  {
   "cell_type": "code",
   "execution_count": 14,
   "metadata": {},
   "outputs": [
    {
     "data": {
      "text/plain": [
       "torch.Size([4, 10, 90, 2])"
      ]
     },
     "execution_count": 14,
     "metadata": {},
     "output_type": "execute_result"
    }
   ],
   "source": [
    "csi_data = torch.stack((amplitudes,phases),dim=-1)\n",
    "csi_data.shape"
   ]
  },
  {
   "cell_type": "code",
   "execution_count": 15,
   "metadata": {},
   "outputs": [
    {
     "data": {
      "text/plain": [
       "tensor([[[[15.7798, 14.3883],\n",
       "          [16.7691, 14.2185],\n",
       "          [17.0895, 13.9090],\n",
       "          ...,\n",
       "          [24.9216, 13.4350],\n",
       "          [24.7743, 13.2022],\n",
       "          [23.0023, 13.4517]],\n",
       "\n",
       "         [[16.1613, 14.5834],\n",
       "          [17.5160, 14.3152],\n",
       "          [17.5887, 14.0327],\n",
       "          ...,\n",
       "          [25.0349, 13.7834],\n",
       "          [24.4863, 13.5458],\n",
       "          [23.3070, 13.8259]],\n",
       "\n",
       "         [[15.4553, 14.6143],\n",
       "          [16.8243, 14.3964],\n",
       "          [16.4779, 14.0871],\n",
       "          ...,\n",
       "          [25.1859, 13.9241],\n",
       "          [24.6345, 13.6991],\n",
       "          [23.6263, 13.9892]],\n",
       "\n",
       "         ...,\n",
       "\n",
       "         [[15.5519, 14.5681],\n",
       "          [16.7517, 14.4255],\n",
       "          [17.0895, 14.0761],\n",
       "          ...,\n",
       "          [25.3157, 13.7260],\n",
       "          [24.9542, 13.4787],\n",
       "          [23.6344, 13.7598]],\n",
       "\n",
       "         [[15.3938, 14.8327],\n",
       "          [16.1837, 14.6586],\n",
       "          [16.5684, 14.3993],\n",
       "          ...,\n",
       "          [24.6157, 13.9069],\n",
       "          [24.2885, 13.6860],\n",
       "          [22.6916, 13.9562]],\n",
       "\n",
       "         [[16.6750, 14.1117],\n",
       "          [17.3843, 13.8782],\n",
       "          [17.6997, 13.6616],\n",
       "          ...,\n",
       "          [23.3450, 13.3101],\n",
       "          [23.1197, 13.1309],\n",
       "          [21.4410, 13.3907]]],\n",
       "\n",
       "\n",
       "        [[[10.8028, 11.8026],\n",
       "          [ 6.8553, 11.4786],\n",
       "          [-0.3144, 11.6311],\n",
       "          ...,\n",
       "          [22.5883, 13.2603],\n",
       "          [22.8002, 12.9762],\n",
       "          [20.6475, 13.2427]],\n",
       "\n",
       "         [[10.4948, 11.3198],\n",
       "          [ 5.9350, 11.0271],\n",
       "          [-1.9508, 11.2423],\n",
       "          ...,\n",
       "          [22.4976, 12.8257],\n",
       "          [22.6484, 12.5788],\n",
       "          [20.3844, 12.8193]],\n",
       "\n",
       "         [[10.1180, 11.3201],\n",
       "          [ 4.0206, 11.0023],\n",
       "          [-2.5791, 11.5302],\n",
       "          ...,\n",
       "          [22.6724, 12.9055],\n",
       "          [22.7443, 12.5974],\n",
       "          [20.4375, 12.8540]],\n",
       "\n",
       "         ...,\n",
       "\n",
       "         [[10.4189, 13.3960],\n",
       "          [ 6.8114, 12.9594],\n",
       "          [-1.5072, 11.8211],\n",
       "          ...,\n",
       "          [22.7080, 12.6962],\n",
       "          [22.8856, 12.4449],\n",
       "          [20.7239, 12.6758]],\n",
       "\n",
       "         [[10.1493, 14.7464],\n",
       "          [ 6.2855, 14.3894],\n",
       "          [-0.5709, 13.1706],\n",
       "          ...,\n",
       "          [22.8812, 12.8885],\n",
       "          [22.8674, 12.6045],\n",
       "          [20.7113, 12.8711]],\n",
       "\n",
       "         [[ 9.6466, 13.3872],\n",
       "          [ 5.9513, 12.8405],\n",
       "          [-0.2348, 11.8753],\n",
       "          ...,\n",
       "          [22.7784, 12.6148],\n",
       "          [22.9180, 12.3554],\n",
       "          [21.0168, 12.6046]]],\n",
       "\n",
       "\n",
       "        [[[10.1675, 14.2336],\n",
       "          [11.7307, 14.1369],\n",
       "          [11.9246, 13.9187],\n",
       "          ...,\n",
       "          [25.1935, 13.5175],\n",
       "          [25.2019, 13.3038],\n",
       "          [23.7140, 13.5900]],\n",
       "\n",
       "         [[10.6873, 14.0766],\n",
       "          [11.7438, 13.9153],\n",
       "          [11.8276, 13.7080],\n",
       "          ...,\n",
       "          [25.1301, 13.3169],\n",
       "          [25.2235, 13.1545],\n",
       "          [23.5617, 13.4066]],\n",
       "\n",
       "         [[ 9.9055, 14.3111],\n",
       "          [11.1267, 14.0955],\n",
       "          [11.6409, 13.9063],\n",
       "          ...,\n",
       "          [25.0486, 13.5771],\n",
       "          [24.6784, 13.3588],\n",
       "          [23.6305, 13.6237]],\n",
       "\n",
       "         ...,\n",
       "\n",
       "         [[10.4272, 14.1704],\n",
       "          [11.3276, 14.0991],\n",
       "          [11.3932, 13.8972],\n",
       "          ...,\n",
       "          [25.1851, 13.4430],\n",
       "          [25.0264, 13.2374],\n",
       "          [23.9116, 13.5309]],\n",
       "\n",
       "         [[10.2768, 14.3291],\n",
       "          [11.6951, 14.1408],\n",
       "          [12.0832, 13.9772],\n",
       "          ...,\n",
       "          [25.0601, 13.5561],\n",
       "          [25.1624, 13.3287],\n",
       "          [23.5814, 13.6040]],\n",
       "\n",
       "         [[10.6657, 13.9447],\n",
       "          [11.0512, 13.8979],\n",
       "          [11.8223, 13.6799],\n",
       "          ...,\n",
       "          [24.9478, 13.2413],\n",
       "          [24.9227, 13.0472],\n",
       "          [23.3765, 13.3344]]],\n",
       "\n",
       "\n",
       "        [[[ 5.2609,  9.3852],\n",
       "          [ 2.1154,  9.7559],\n",
       "          [ 7.9221, 10.0715],\n",
       "          ...,\n",
       "          [19.2216,  9.6891],\n",
       "          [19.0339,  9.4849],\n",
       "          [17.7352,  9.6796]],\n",
       "\n",
       "         [[ 1.5154,  8.6487],\n",
       "          [-0.4389,  9.7617],\n",
       "          [ 8.3237,  9.8136],\n",
       "          ...,\n",
       "          [19.0062,  9.4700],\n",
       "          [18.8230,  9.2220],\n",
       "          [16.9352,  9.3747]],\n",
       "\n",
       "         [[ 8.4181,  8.5322],\n",
       "          [ 1.6730,  8.3160],\n",
       "          [ 3.2013,  9.8638],\n",
       "          ...,\n",
       "          [19.1903,  9.6222],\n",
       "          [18.9052,  9.3876],\n",
       "          [16.9201,  9.5766]],\n",
       "\n",
       "         ...,\n",
       "\n",
       "         [[ 8.7982,  8.2942],\n",
       "          [ 4.1480,  8.3240],\n",
       "          [ 3.9717,  9.2005],\n",
       "          ...,\n",
       "          [16.8073,  9.1667],\n",
       "          [16.8289,  9.0123],\n",
       "          [15.1939,  9.2024]],\n",
       "\n",
       "         [[10.8568,  8.3785],\n",
       "          [10.1458,  8.2801],\n",
       "          [ 6.5541,  8.2337],\n",
       "          ...,\n",
       "          [17.1780,  9.1976],\n",
       "          [16.7831,  9.0132],\n",
       "          [15.0519,  9.2174]],\n",
       "\n",
       "         [[ 7.7861,  8.5811],\n",
       "          [ 6.2628,  8.8625],\n",
       "          [ 8.1888,  9.2309],\n",
       "          ...,\n",
       "          [17.4805,  9.3513],\n",
       "          [17.4944,  9.1357],\n",
       "          [16.0757,  9.3220]]]])"
      ]
     },
     "execution_count": 15,
     "metadata": {},
     "output_type": "execute_result"
    }
   ],
   "source": [
    "csi_data"
   ]
  },
  {
   "cell_type": "code",
   "execution_count": 16,
   "metadata": {},
   "outputs": [
    {
     "data": {
      "text/plain": [
       "torch.Size([4, 90, 2, 10])"
      ]
     },
     "execution_count": 16,
     "metadata": {},
     "output_type": "execute_result"
    }
   ],
   "source": [
    "csi_data = csi_data.permute(0,2,3,1)\n",
    "csi_data.shape"
   ]
  },
  {
   "cell_type": "code",
   "execution_count": 17,
   "metadata": {},
   "outputs": [
    {
     "data": {
      "text/plain": [
       "torch.Size([360, 2, 10])"
      ]
     },
     "execution_count": 17,
     "metadata": {},
     "output_type": "execute_result"
    }
   ],
   "source": [
    "csi_data = csi_data.reshape(-1,2,10)\n",
    "csi_data.shape"
   ]
  },
  {
   "cell_type": "code",
   "execution_count": 18,
   "metadata": {},
   "outputs": [
    {
     "name": "stderr",
     "output_type": "stream",
     "text": [
      "/home/francisco.m.ribeiro/PDEEC/ML/Project/hybrid-wifi-har/src/ut_har/ut_har.py:9: UserWarning: To copy construct from a tensor, it is recommended to use sourceTensor.clone().detach() or sourceTensor.clone().detach().requires_grad_(True), rather than torch.tensor(sourceTensor).\n",
      "  self.X = torch.tensor(X,dtype=torch.float32)\n",
      "/home/francisco.m.ribeiro/PDEEC/ML/Project/hybrid-wifi-har/src/ut_har/ut_har.py:10: UserWarning: To copy construct from a tensor, it is recommended to use sourceTensor.clone().detach() or sourceTensor.clone().detach().requires_grad_(True), rather than torch.tensor(sourceTensor).\n",
      "  self.y = torch.tensor(y,dtype=torch.uint8)\n"
     ]
    }
   ],
   "source": [
    "from src.ut_har.ut_har import make_dataset, make_dataloader\n",
    "\n",
    "train_dataset, val_dataset, test_dataset = make_dataset(dataset_path, normalize=True, val_split=0.2, test_split=0)"
   ]
  },
  {
   "cell_type": "code",
   "execution_count": 19,
   "metadata": {},
   "outputs": [],
   "source": [
    "rng_generator = torch.manual_seed(42)\n",
    "train_dataloader = make_dataloader(train_dataset, is_training=True, batch_size=24, generator=rng_generator)\n",
    "test_dataloader = make_dataloader(val_dataset, is_training=False, batch_size=8, generator=rng_generator)"
   ]
  },
  {
   "cell_type": "code",
   "execution_count": 20,
   "metadata": {},
   "outputs": [
    {
     "data": {
      "text/plain": [
       "88634"
      ]
     },
     "execution_count": 20,
     "metadata": {},
     "output_type": "execute_result"
    }
   ],
   "source": [
    "len(train_dataset)"
   ]
  },
  {
   "cell_type": "code",
   "execution_count": 21,
   "metadata": {},
   "outputs": [
    {
     "data": {
      "text/plain": [
       "88632"
      ]
     },
     "execution_count": 21,
     "metadata": {},
     "output_type": "execute_result"
    }
   ],
   "source": [
    "len(train_dataloader)*24"
   ]
  },
  {
   "cell_type": "code",
   "execution_count": 22,
   "metadata": {},
   "outputs": [
    {
     "data": {
      "text/plain": [
       "22159"
      ]
     },
     "execution_count": 22,
     "metadata": {},
     "output_type": "execute_result"
    }
   ],
   "source": [
    "len(val_dataset)"
   ]
  },
  {
   "cell_type": "code",
   "execution_count": 23,
   "metadata": {},
   "outputs": [
    {
     "data": {
      "text/plain": [
       "22152"
      ]
     },
     "execution_count": 23,
     "metadata": {},
     "output_type": "execute_result"
    }
   ],
   "source": [
    "len(test_dataloader)*8"
   ]
  }
 ],
 "metadata": {
  "kernelspec": {
   "display_name": "venv",
   "language": "python",
   "name": "python3"
  },
  "language_info": {
   "codemirror_mode": {
    "name": "ipython",
    "version": 3
   },
   "file_extension": ".py",
   "mimetype": "text/x-python",
   "name": "python",
   "nbconvert_exporter": "python",
   "pygments_lexer": "ipython3",
   "version": "3.10.12"
  }
 },
 "nbformat": 4,
 "nbformat_minor": 2
}
