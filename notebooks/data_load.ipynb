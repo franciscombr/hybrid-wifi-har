{
 "cells": [
  {
   "cell_type": "code",
   "execution_count": 11,
   "metadata": {},
   "outputs": [],
   "source": [
    "import torch\n",
    "import numpy as np \n",
    "import h5py\n",
    "from sklearn.model_selection import train_test_split"
   ]
  },
  {
   "cell_type": "code",
   "execution_count": 2,
   "metadata": {},
   "outputs": [],
   "source": [
    "dataset_path = \"../data/UT_HAR_OG\"\n",
    "#X = torch.load(dataset_path+\"/data/X.pt\")\n",
    "#y = torch.load(dataset_path+\"/label/y.pt\")"
   ]
  },
  {
   "cell_type": "code",
   "execution_count": 4,
   "metadata": {},
   "outputs": [],
   "source": [
    "with h5py.File(dataset_path + \"/data/X.h5\", \"r\") as f:\n",
    "    X = torch.tensor(f[\"X\"][:])\n",
    "\n",
    "with h5py.File(dataset_path + \"/label/y.h5\", \"r\") as f:\n",
    "    y = torch.tensor(f[\"y\"][:])"
   ]
  },
  {
   "cell_type": "code",
   "execution_count": null,
   "metadata": {},
   "outputs": [
    {
     "data": {
      "text/plain": [
       "tensor([[11.6940, 12.9730, 14.2000,  ..., 12.3690, 12.2050, 12.5090],\n",
       "        [11.6940, 12.9730, 14.2000,  ..., 12.3690, 12.2050, 12.5090],\n",
       "        [ 9.9784, 12.8560, 14.5720,  ..., 13.0370, 12.8420, 13.1860],\n",
       "        ...,\n",
       "        [ 0.0000,  0.0000,  0.0000,  ...,  0.0000,  0.0000,  0.0000],\n",
       "        [ 0.0000,  0.0000,  0.0000,  ...,  0.0000,  0.0000,  0.0000],\n",
       "        [ 0.0000,  0.0000,  0.0000,  ...,  0.0000,  0.0000,  0.0000]])"
      ]
     },
     "execution_count": 13,
     "metadata": {},
     "output_type": "execute_result"
    }
   ],
   "source": [
    "X[0]"
   ]
  },
  {
   "cell_type": "code",
   "execution_count": null,
   "metadata": {},
   "outputs": [
    {
     "data": {
      "text/plain": [
       "tensor(0)"
      ]
     },
     "execution_count": 8,
     "metadata": {},
     "output_type": "execute_result"
    }
   ],
   "source": [
    "y[1]"
   ]
  },
  {
   "cell_type": "code",
   "execution_count": 12,
   "metadata": {},
   "outputs": [],
   "source": [
    "X_train_val, X_test, y_train_val, y_test = train_test_split(X,y,test_size=0.3, stratify=y, random_state=42)"
   ]
  },
  {
   "cell_type": "code",
   "execution_count": 13,
   "metadata": {},
   "outputs": [],
   "source": [
    "X_train, X_val, y_train, y_val = train_test_split(X_train_val, y_train_val, test_size=0.2, stratify=y_train_val, random_state=42)"
   ]
  },
  {
   "cell_type": "code",
   "execution_count": 14,
   "metadata": {},
   "outputs": [
    {
     "name": "stdout",
     "output_type": "stream",
     "text": [
      "Train distribution:\n",
      "Class 0: 44 samples\n",
      "Class 1: 44 samples\n",
      "Class 2: 44 samples\n",
      "Class 3: 45 samples\n",
      "Class 4: 45 samples\n",
      "Class 5: 44 samples\n",
      "Class 6: 45 samples\n",
      "\n",
      "Validation distribution:\n",
      "Class 0: 11 samples\n",
      "Class 1: 11 samples\n",
      "Class 2: 12 samples\n",
      "Class 3: 11 samples\n",
      "Class 4: 11 samples\n",
      "Class 5: 11 samples\n",
      "Class 6: 11 samples\n",
      "\n",
      "Test distribution:\n",
      "Class 0: 24 samples\n",
      "Class 1: 24 samples\n",
      "Class 2: 24 samples\n",
      "Class 3: 24 samples\n",
      "Class 4: 24 samples\n",
      "Class 5: 24 samples\n",
      "Class 6: 24 samples\n",
      "\n"
     ]
    }
   ],
   "source": [
    "def print_class_distribution(y, label):\n",
    "    unique, counts = np.unique(y, return_counts=True)\n",
    "    print(f\"{label} distribution:\")\n",
    "    for cls, count in zip(unique, counts):\n",
    "        print(f\"Class {cls}: {count} samples\")\n",
    "    print()\n",
    "\n",
    "print_class_distribution(y_train, \"Train\")\n",
    "print_class_distribution(y_val, \"Validation\")\n",
    "print_class_distribution(y_test, \"Test\")\n"
   ]
  }
 ],
 "metadata": {
  "kernelspec": {
   "display_name": "venv",
   "language": "python",
   "name": "python3"
  },
  "language_info": {
   "codemirror_mode": {
    "name": "ipython",
    "version": 3
   },
   "file_extension": ".py",
   "mimetype": "text/x-python",
   "name": "python",
   "nbconvert_exporter": "python",
   "pygments_lexer": "ipython3",
   "version": "3.10.12"
  }
 },
 "nbformat": 4,
 "nbformat_minor": 2
}
