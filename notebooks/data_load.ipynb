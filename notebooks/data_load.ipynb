{
 "cells": [
  {
   "cell_type": "code",
   "execution_count": 1,
   "metadata": {},
   "outputs": [],
   "source": [
    "import torch\n",
    "import numpy as np \n",
    "import h5py\n",
    "from sklearn.model_selection import train_test_split"
   ]
  },
  {
   "cell_type": "code",
   "execution_count": 2,
   "metadata": {},
   "outputs": [],
   "source": [
    "dataset_path = \"../data/UT_HAR_OG\"\n",
    "#X = torch.load(dataset_path+\"/data/X.pt\")\n",
    "#y = torch.load(dataset_path+\"/label/y.pt\")"
   ]
  },
  {
   "cell_type": "code",
   "execution_count": 6,
   "metadata": {},
   "outputs": [],
   "source": [
    "with h5py.File(dataset_path + \"/X.h5\", \"r\") as f:\n",
    "    X = torch.tensor(f[\"X\"][:])\n",
    "\n",
    "with h5py.File(dataset_path + \"/y.h5\", \"r\") as f:\n",
    "    y = torch.tensor(f[\"y\"][:])"
   ]
  },
  {
   "cell_type": "code",
   "execution_count": 7,
   "metadata": {},
   "outputs": [
    {
     "data": {
      "text/plain": [
       "torch.Size([110793, 10, 180])"
      ]
     },
     "execution_count": 7,
     "metadata": {},
     "output_type": "execute_result"
    }
   ],
   "source": [
    "X.shape"
   ]
  },
  {
   "cell_type": "code",
   "execution_count": 8,
   "metadata": {},
   "outputs": [
    {
     "data": {
      "text/plain": [
       "torch.Size([110793])"
      ]
     },
     "execution_count": 8,
     "metadata": {},
     "output_type": "execute_result"
    }
   ],
   "source": [
    "y.shape"
   ]
  },
  {
   "cell_type": "code",
   "execution_count": 9,
   "metadata": {},
   "outputs": [],
   "source": [
    "X_train_val, X_test, y_train_val, y_test = train_test_split(X,y,test_size=0.3, stratify=y, random_state=42)"
   ]
  },
  {
   "cell_type": "code",
   "execution_count": 10,
   "metadata": {},
   "outputs": [],
   "source": [
    "X_train, X_val, y_train, y_val = train_test_split(X_train_val, y_train_val, test_size=0.2, stratify=y_train_val, random_state=42)"
   ]
  },
  {
   "cell_type": "code",
   "execution_count": 11,
   "metadata": {},
   "outputs": [
    {
     "name": "stdout",
     "output_type": "stream",
     "text": [
      "Train distribution:\n",
      "Class 0: 50296 samples\n",
      "Class 1: 1552 samples\n",
      "Class 2: 1080 samples\n",
      "Class 3: 1187 samples\n",
      "Class 4: 2790 samples\n",
      "Class 5: 1009 samples\n",
      "Class 6: 753 samples\n",
      "Class 7: 3377 samples\n",
      "\n",
      "Validation distribution:\n",
      "Class 0: 12574 samples\n",
      "Class 1: 388 samples\n",
      "Class 2: 270 samples\n",
      "Class 3: 297 samples\n",
      "Class 4: 697 samples\n",
      "Class 5: 252 samples\n",
      "Class 6: 188 samples\n",
      "Class 7: 845 samples\n",
      "\n",
      "Test distribution:\n",
      "Class 0: 26945 samples\n",
      "Class 1: 831 samples\n",
      "Class 2: 579 samples\n",
      "Class 3: 636 samples\n",
      "Class 4: 1494 samples\n",
      "Class 5: 540 samples\n",
      "Class 6: 404 samples\n",
      "Class 7: 1809 samples\n",
      "\n"
     ]
    }
   ],
   "source": [
    "def print_class_distribution(y, label):\n",
    "    unique, counts = np.unique(y, return_counts=True)\n",
    "    print(f\"{label} distribution:\")\n",
    "    for cls, count in zip(unique, counts):\n",
    "        print(f\"Class {cls}: {count} samples\")\n",
    "    print()\n",
    "\n",
    "print_class_distribution(y_train, \"Train\")\n",
    "print_class_distribution(y_val, \"Validation\")\n",
    "print_class_distribution(y_test, \"Test\")\n"
   ]
  },
  {
   "cell_type": "code",
   "execution_count": 12,
   "metadata": {},
   "outputs": [
    {
     "data": {
      "text/plain": [
       "torch.Size([62044, 10, 180])"
      ]
     },
     "execution_count": 12,
     "metadata": {},
     "output_type": "execute_result"
    }
   ],
   "source": [
    "X_train.shape"
   ]
  }
 ],
 "metadata": {
  "kernelspec": {
   "display_name": "venv",
   "language": "python",
   "name": "python3"
  },
  "language_info": {
   "codemirror_mode": {
    "name": "ipython",
    "version": 3
   },
   "file_extension": ".py",
   "mimetype": "text/x-python",
   "name": "python",
   "nbconvert_exporter": "python",
   "pygments_lexer": "ipython3",
   "version": "3.10.12"
  }
 },
 "nbformat": 4,
 "nbformat_minor": 2
}
